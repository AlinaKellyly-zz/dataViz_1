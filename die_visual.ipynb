{
 "cells": [
  {
   "cell_type": "markdown",
   "metadata": {},
   "source": [
    "# Rollong the Die with Plotly\n",
    "\n",
    "#### *Note: This section use Die class created in die.py*\n",
    "### **The objective**: learn basic functionality of Plotly using simple example\n",
    "\n",
    "### **Steps**:\n",
    "###    1. Rolling the Die\n",
    "###    2. Analizing the Results\n",
    "###    3. Making a Histogram of frequencies"
   ]
  },
  {
   "cell_type": "code",
   "execution_count": 4,
   "metadata": {},
   "outputs": [
    {
     "name": "stdout",
     "output_type": "stream",
     "text": [
      "[156, 162, 171, 183, 175, 153]\n"
     ]
    }
   ],
   "source": [
    "from plotly.graph_objs import Bar, Layout\n",
    "from plotly import offline\n",
    "\n",
    "from die import Die\n",
    "\n",
    "# create a d6\n",
    "die=Die()\n",
    "\n",
    "# Make some rolls, and store results in a list.\n",
    "results = []\n",
    "for roll_num in range(1000):\n",
    "    result = die.roll()\n",
    "    results.append(result)\n",
    "    \n",
    "# Analyze the results.\n",
    "frequencies=[]\n",
    "for value in range(1, die.num_sides+1):\n",
    "    frequency = results.count(value)\n",
    "    frequencies.append(frequency)\n",
    "    \n",
    "#print(frequencies)"
   ]
  },
  {
   "cell_type": "code",
   "execution_count": 7,
   "metadata": {},
   "outputs": [
    {
     "data": {
      "text/plain": [
       "'d6.html'"
      ]
     },
     "execution_count": 7,
     "metadata": {},
     "output_type": "execute_result"
    }
   ],
   "source": [
    "# Visualize results\n",
    "x_values = list(range(1, die.num_sides+1))\n",
    "data = [Bar(x=x_values, y=frequencies)]\n",
    "\n",
    "x_axis_config = {'title': 'Result'}\n",
    "y_axis_config = {'title': 'Frequency of Result'}\n",
    "\n",
    "my_layout = Layout(title = 'Results of rolling one D6 1000 times', xaxis=x_axis_config, yaxis = y_axis_config)\n",
    "offline.plot({'data': data, 'layout': my_layout}, filename='d6.html')"
   ]
  }
 ],
 "metadata": {
  "kernelspec": {
   "display_name": "boring_staff",
   "language": "python",
   "name": "boring_staff"
  },
  "language_info": {
   "codemirror_mode": {
    "name": "ipython",
    "version": 3
   },
   "file_extension": ".py",
   "mimetype": "text/x-python",
   "name": "python",
   "nbconvert_exporter": "python",
   "pygments_lexer": "ipython3",
   "version": "3.8.3"
  }
 },
 "nbformat": 4,
 "nbformat_minor": 4
}
